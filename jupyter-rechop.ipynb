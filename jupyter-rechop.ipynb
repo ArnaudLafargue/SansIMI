{
 "cells": [
  {
   "cell_type": "code",
   "execution_count": 2,
   "metadata": {},
   "outputs": [],
   "source": [
    "from typing import Tuple, TextIO\n",
    "import numpy as np\n",
    "import random as ran\n",
    "from operator import itemgetter, attrgetter, methodcaller\n",
    "import itertools"
   ]
  },
  {
   "cell_type": "markdown",
   "metadata": {},
   "source": [
    "Inputs :"
   ]
  },
  {
   "cell_type": "code",
   "execution_count": null,
   "metadata": {},
   "outputs": [],
   "source": [
    "nodes_file = open(\"nice/nodes.csv\")\n",
    "distances_file = open(\"nice/distances.csv\")\n",
    "output = open(\"grenoble/output.csv\",\"w+\")"
   ]
  },
  {
   "cell_type": "markdown",
   "metadata": {},
   "source": [
    "On créer les parsers. Le premier parser traduit le fichier nodes avec la position des points.  "
   ]
  },
  {
   "cell_type": "code",
   "execution_count": 3,
   "metadata": {},
   "outputs": [],
   "source": [
    "def parser_nodes(file):\n",
    "    lines = file.readlines()\n",
    "    lines.pop(0)\n",
    "    lines = [line.strip().split(\";\") for line in lines]\n",
    "    for line in lines:\n",
    "        line[0] = float(line[0])\n",
    "        line[1] = float(line[1])\n",
    "        line[2] = line[2][0]\n",
    "\n",
    "    return lines"
   ]
  },
  {
   "cell_type": "code",
   "execution_count": null,
   "metadata": {},
   "outputs": [],
   "source": [
    "Le second parser pour avoir les distances. nous donne une matrice."
   ]
  }
 ],
 "metadata": {
  "kernelspec": {
   "display_name": "Python 3",
   "language": "python",
   "name": "python3"
  },
  "language_info": {
   "codemirror_mode": {
    "name": "ipython",
    "version": 3
   },
   "file_extension": ".py",
   "mimetype": "text/x-python",
   "name": "python",
   "nbconvert_exporter": "python",
   "pygments_lexer": "ipython3",
   "version": "3.6.6"
  }
 },
 "nbformat": 4,
 "nbformat_minor": 2
}
