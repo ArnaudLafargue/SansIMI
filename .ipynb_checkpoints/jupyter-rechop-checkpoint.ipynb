{
 "cells": [
  {
   "cell_type": "code",
   "execution_count": 1,
   "metadata": {},
   "outputs": [],
   "source": [
    "from typing import Tuple, TextIO\n",
    "import numpy as np\n",
    "import random as ran\n",
    "from operator import itemgetter, attrgetter, methodcaller\n",
    "import itertools\n",
    "import copy as cp\n",
    "import matplotlib.pyplot as plt"
   ]
  },
  {
   "cell_type": "markdown",
   "metadata": {},
   "source": [
    "Inputs :"
   ]
  },
  {
   "cell_type": "markdown",
   "metadata": {},
   "source": [
    "On créer les parsers. Le premier parser traduit le fichier nodes avec la position des points.  "
   ]
  },
  {
   "cell_type": "code",
   "execution_count": 2,
   "metadata": {},
   "outputs": [],
   "source": [
    "def parser_nodes(file):\n",
    "    lines = file.readlines()\n",
    "    lines.pop(0)\n",
    "    lines = [line.strip().split(\";\") for line in lines]\n",
    "    for line in lines:\n",
    "        line[0] = float(line[0])\n",
    "        line[1] = float(line[1])\n",
    "        line[2] = line[2][0]\n",
    "\n",
    "    return lines"
   ]
  },
  {
   "cell_type": "markdown",
   "metadata": {},
   "source": [
    "Le second parser pour avoir les distances. nous donne une matrice."
   ]
  },
  {
   "cell_type": "code",
   "execution_count": 3,
   "metadata": {},
   "outputs": [],
   "source": [
    "def parser_distances(file):\n",
    "    lin = distances_file.readlines()\n",
    "    DataIn = np.loadtxt(lin)\n",
    "    return DataIn\n"
   ]
  },
  {
   "cell_type": "code",
   "execution_count": 4,
   "metadata": {
    "scrolled": true
   },
   "outputs": [
    {
     "data": {
      "text/plain": [
       "array([[  0., 624., 319., 364., 489., 275., 325., 375., 224., 383., 514.,\n",
       "        358., 332.],\n",
       "       [606.,   0., 716., 588., 385., 408., 614., 539., 621., 780., 254.,\n",
       "        755., 729.],\n",
       "       [332., 728.,   0., 344., 605., 459., 223., 381., 144., 164., 634.,\n",
       "        139., 109.],\n",
       "       [328., 624., 311.,   0., 500., 325.,  80., 153., 216., 375., 460.,\n",
       "        350., 287.],\n",
       "       [474., 387., 611., 482.,   0., 276., 509., 431., 515., 674., 220.,\n",
       "        649., 624.],\n",
       "       [198., 616., 485., 417., 481.,   0., 443., 368., 389., 549., 506.,\n",
       "        523., 498.],\n",
       "       [321., 627., 262., 121., 503., 348.,   0., 171., 192., 307., 478.,\n",
       "        309., 207.],\n",
       "       [376., 543., 360., 175., 421., 193., 170.,   0., 264., 423., 319.,\n",
       "        398., 372.],\n",
       "       [248., 644., 104., 279., 520., 375., 200., 296.,   0., 196., 549.,\n",
       "        171., 143.],\n",
       "       [448., 844., 217., 480., 721., 575., 363., 497., 281.,   0., 750.,\n",
       "        142., 191.],\n",
       "       [484., 254., 612., 477., 220., 286., 472., 314., 516., 675.,   0.,\n",
       "        650., 624.],\n",
       "       [402., 799., 177., 402., 675., 529., 281., 451., 214.,  81., 704.,\n",
       "          0., 110.],\n",
       "       [305., 701., 148., 316., 577., 432., 195., 353., 117., 177., 606.,\n",
       "        179.,   0.]])"
      ]
     },
     "execution_count": 4,
     "metadata": {},
     "output_type": "execute_result"
    }
   ],
   "source": [
    "nodes_file = open(\"/home/charles/Documents/instances/grenoble/nodes.csv\")\n",
    "\n",
    "instances_file = open(\"/home/charles/Documents/instances/grenoble/distances.csv\")\n",
    "#output = open(\"grenoble/output.csv\",\"w+\")\n",
    "#parser_nodes(nodes_file)\n",
    "#parser_distances(distances_file)\n",
    "lines = instances_file.readlines()\n",
    "lines = [float(float_) for float_ in lines ]\n",
    "lines = np.array(lines)\n",
    "lines = lines.reshape(13,13)\n",
    "lines"
   ]
  },
  {
   "cell_type": "markdown",
   "metadata": {},
   "source": [
    "On va faire une classe Instance qui contient toutes les informations et les transformations nécessaires pour utiliser les instances"
   ]
  },
  {
   "cell_type": "code",
   "execution_count": 5,
   "metadata": {},
   "outputs": [],
   "source": [
    "class Instances:\n",
    "    \n",
    "    def __init__(self,nodes_file,distances_file):\n",
    "        self.nodes,self.distances = self.parser(nodes_file,distances_file)\n",
    "        self.terminal = self.list_terminal()\n",
    "        self.distribution = self.list_distribution()\n",
    "        self.rangement=self.cluster()\n",
    "        \n",
    "    def parser(self,nodes_file,distances_file):\n",
    "        nodes = nodes_file.readlines()\n",
    "        nodes.pop(0)\n",
    "        nodes = [line.strip().split(\";\") for line in nodes]\n",
    "        for line in nodes:\n",
    "            line[0] = float(line[0])\n",
    "            line[1] = float(line[1])\n",
    "            line[2] = line[2][0]\n",
    "        nb_lines = len(nodes)\n",
    "        distances = distances_file.readlines()\n",
    "        distances = [float(float_) for float_ in distances ]\n",
    "        distances = np.array(distances)\n",
    "        distances = distances.reshape(nb_lines,nb_lines)\n",
    "        return nodes, distances\n",
    "        \n",
    "        \n",
    "    def nodes_sorting(self):\n",
    "        terminal = []\n",
    "        distribution = []\n",
    "        i = 0\n",
    "\n",
    "        for i in range(len(self.nodes)):\n",
    "            if self.nodes[i][2] == 't':\n",
    "                terminal.append([i, float(self.nodes[i][0]), float(self.nodes[i][1])])\n",
    "            if self.nodes[i][2] == 'd':\n",
    "                distribution.append([i, float(self.nodes[i][0]), float(self.nodes[i][1])])\n",
    "        return terminal, distribution\n",
    "\n",
    "    def list_terminal(self):\n",
    "        return self.nodes_sorting()[0]\n",
    "\n",
    "    def list_distribution(self):\n",
    "        return self.nodes_sorting()[1]\n",
    "    \n",
    "    def xy(self,i):\n",
    "        return(self.nodes[i][0],self.nodes[i][1])\n",
    "    def l(self, i, j):\n",
    "        return self.distances[i,j]\n",
    "    def l2(self,i,j):\n",
    "        return self.distances[i,j]+self.distances[j,i]\n",
    "    def cluster(self):#rangement[i] est le cluster de la distribution i\n",
    "        rangement = [[] for i in range(len(self.distribution))]\n",
    "        maximum = 30+ 5*30\n",
    "        for point in self.terminal:\n",
    "            d = 1000000\n",
    "            i0=0\n",
    "            for i in range(len(self.distribution)):\n",
    "                if self.l2(self.distribution[i][0],point[0])<d:\n",
    "                    i0=i\n",
    "                    d = self.l2(self.distribution[i][0],point[0])\n",
    "            rangement[i0].append(point)\n",
    "        return rangement\n",
    "    def antenne_distribution(self,n):\n",
    "        return self.rangement[n],self.distribution[n]\n",
    "        "
   ]
  },
  {
   "cell_type": "code",
   "execution_count": 6,
   "metadata": {},
   "outputs": [
    {
     "data": {
      "text/plain": [
       "[[[2, 5.72943382836614, 45.1898920801397],\n",
       "  [3, 5.7506830833093, 45.2016577552734],\n",
       "  [5, 5.78302591266694, 45.2054406367572],\n",
       "  [6, 5.74420262888066, 45.2019016819554],\n",
       "  [7, 5.76228981282658, 45.2110160431503],\n",
       "  [8, 5.73669832593005, 45.1910386087576],\n",
       "  [9, 5.71956486747481, 45.1905081493493],\n",
       "  [11, 5.72629490783427, 45.1904110750012],\n",
       "  [12, 5.72971711257433, 45.1930708286647]],\n",
       " [[4, 5.81278028201843, 45.2180565531884],\n",
       "  [10, 5.80260301767593, 45.2301341157326]]]"
      ]
     },
     "execution_count": 6,
     "metadata": {},
     "output_type": "execute_result"
    }
   ],
   "source": [
    "nodes_file = open(\"/home/charles/Documents/instances/grenoble/nodes.csv\")\n",
    "distances_file = open(\"/home/charles/Documents/instances/grenoble/distances.csv\")\n",
    "I = Instances(nodes_file,distances_file)\n",
    "I.distribution\n",
    "I.antenne_distribution(1)\n",
    "\n",
    "I.rangement\n",
    "\n"
   ]
  },
  {
   "cell_type": "markdown",
   "metadata": {},
   "source": [
    "On commence par se représenter les points avec numpy. Ensuite, la fonction cluster rassemble les points par distributions. Ainsi chaque distribution est un problème indépendant. "
   ]
  },
  {
   "cell_type": "code",
   "execution_count": 7,
   "metadata": {},
   "outputs": [],
   "source": [
    "def trace(I):\n",
    "    for i in range(len(I.terminal)):\n",
    "        plt.plot(I.terminal[i][1],I.terminal[i][2],color = 'blue',marker ='o')\n",
    "    for i in range(len(I.distribution)):\n",
    "        plt.plot(I.distribution[i][1],I.distribution[i][2],color = 'red',marker = 'o' )\n",
    "    plt.axis = \"equal\"\n",
    "    \n",
    "#test\n",
    "def trace_cluster(I,n):\n",
    "    for i in range(len(I.rangement[n])):\n",
    "        plt.plot(I.rangement[n][i][1],I.rangement[n][i][2],color = 'green',marker ='o')\n",
    "        plt.plot(I.distribution[n][1],I.distribution[n][2],color = 'yellow',marker = 'o' )\n",
    "    plt.axis = \"equal\"\n",
    "    plt.show()"
   ]
  },
  {
   "cell_type": "code",
   "execution_count": 8,
   "metadata": {},
   "outputs": [
    {
     "data": {
      "image/png": "[encoded data removed]",
      "text/plain": [
       "<Figure size 432x288 with 1 Axes>"
      ]
     },
     "metadata": {
      "needs_background": "light"
     },
     "output_type": "display_data"
    }
   ],
   "source": [
    "nodes_file = open(\"/home/charles/Documents/instances/grenoble/nodes.csv\")\n",
    "distances_file = open(\"/home/charles/Documents/instances/grenoble/distances.csv\")\n",
    "I = Instances(nodes_file,distances_file)\n",
    "trace(I)\n",
    "trace_cluster(I,0)\n",
    "#I.rangement[6]"
   ]
  },
  {
   "cell_type": "markdown",
   "metadata": {},
   "source": [
    "Maintenant que le clustering est fait, on va s'occuper de trouver la solution. Les points de distribution sont tous indépendants. On part donc en entrée d'une distribution et de points associés. On va faire une métaheuristique à partir de là. On commence par une métaheuristique vraiment bourrine. L'objectif de la métaheuristique est de faire varier les points mais aussi la longueur de la boucle principale. "
   ]
  },
  {
   "cell_type": "code",
   "execution_count": 396,
   "metadata": {},
   "outputs": [],
   "source": [
    "class solution_pour_une_distribution:\n",
    "    def __init__(self,I,n):#antennes = I.rangement[n],distribution = I.distribution[n]\n",
    "        self.I = I\n",
    "        self.n=n\n",
    "        self.distribution,self.antennes = self.antennes_distribution()\n",
    "        self.boucle,self.branche = self.first_solution()#branche[j] donne la branche raccrochée au point \n",
    "        self.cout = 0\n",
    "    #boucle est la une liste de points\n",
    "    #branche est une liste de liste de branches.\n",
    "    def antennes_distribution(self):\n",
    "        return self.I.distribution[self.n],self.I.rangement[self.n]\n",
    "    def first_solution(self):\n",
    "        boucle=[]\n",
    "        liste_antennes = cp.deepcopy(self.antennes)\n",
    "        boucle_size = ran.randint(int(len(self.antennes)/6)+1,min(30,len(self.antennes)))\n",
    "        for i in range(boucle_size):#on rempli la boucle\n",
    "            j = ran.randint(0,len(liste_antennes)-1)\n",
    "            boucle.append(liste_antennes.pop(j))\n",
    "        \n",
    "        branche = [[] for i in range(len(boucle))]\n",
    "        for i in range(len(liste_antennes)):\n",
    "            size_ok = True\n",
    "            debug = 0\n",
    "            while(size_ok):\n",
    "                j = ran.randint(0,len(boucle)-1)\n",
    "                if (len(branche[j])<6):\n",
    "                    size_ok = False\n",
    "                    branche[j].append(liste_antennes[i])\n",
    "                \n",
    "                debug +=1\n",
    "                if debug == 100 :\n",
    "                    print(boucle)\n",
    "        return boucle,branche\n",
    "    def trace(self):\n",
    "        #tracer de la boucle\n",
    "        Xdi = [self.distribution[1]]\n",
    "        Ydi = [self.distribution[2]]\n",
    "        Xboucle = [pt[1] for pt in self.boucle]\n",
    "        Yboucle = [pt[2] for pt in self.boucle]\n",
    "        \n",
    "        plt.plot(Xdi+Xboucle+Xdi,Ydi+Yboucle+Ydi,color = 'red')\n",
    "        for i in range(len(self.antennes)):\n",
    "            plt.plot(self.antennes[i][1],self.antennes[i][2],color = 'green',marker ='o')\n",
    "        plt.plot(self.distribution[1],self.distribution[2],color = 'yellow',marker = 'o' )\n",
    "        # on trace les branches\n",
    "        \n",
    "        for j in range (len(self.branche)):\n",
    "            Xi = [self.boucle[j][1]]\n",
    "            Yi = [self.boucle[j][2]]\n",
    "            X = [pt[1] for pt in self.branche[j]]\n",
    "            Y = [pt[2] for pt in self.branche[j]]\n",
    "            plt.plot(Xi+X+Xi,Yi+Y+Yi, color = 'blue')\n",
    "        \n",
    "        \n",
    "        \n",
    "        plt.axis = \"equal\"\n",
    "        plt.show()\n",
    "    def heuristique_classique():\n",
    "                                  \n",
    "                                  \n",
    "            \n",
    "            \n",
    "            \n",
    "            "
   ]
  },
  {
   "cell_type": "code",
   "execution_count": 404,
   "metadata": {
    "scrolled": true
   },
   "outputs": [
    {
     "data": {
      "image/png": "[encoded data removed]",
      "text/plain": [
       "<Figure size 432x288 with 1 Axes>"
      ]
     },
     "metadata": {
      "needs_background": "light"
     },
     "output_type": "display_data"
    }
   ],
   "source": [
    "nodes_file = open(\"/home/charles/Documents/instances/grenoble/nodes.csv\")\n",
    "distances_file = open(\"/home/charles/Documents/instances/grenoble/distances.csv\")\n",
    "I = Instances(nodes_file,distances_file)\n",
    "sol1 = solution_pour_une_distribution(I,0) \n",
    "#sol1.boucle,sol1.branche\n",
    "sol1.trace()"
   ]
  }
 ],
 "metadata": {
  "kernelspec": {
   "display_name": "Python 3",
   "language": "python",
   "name": "python3"
  },
  "language_info": {
   "codemirror_mode": {
    "name": "ipython",
    "version": 3
   },
   "file_extension": ".py",
   "mimetype": "text/x-python",
   "name": "python",
   "nbconvert_exporter": "python",
   "pygments_lexer": "ipython3",
   "version": "3.6.6"
  }
 },
 "nbformat": 4,
 "nbformat_minor": 2
}
